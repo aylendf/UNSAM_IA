{
 "cells": [
  {
   "cell_type": "markdown",
   "metadata": {},
   "source": [
    "## Presentación\n",
    "\n",
    "Estos ejercicios tienen el fin de poder evaluar la situación en la que se encuentra cada unx de ustedes a esta altura de la materia. No es un examen, ni llevará ningún tipo de nota.\n",
    "\n",
    "Les pedimos que respeten al pie de la letra el nombre de las funciones que les damos para completar y su \"signature\". Esto es, que respeten los argumentos de entrada y la salida. Esto es porque tenemos una forma de verificación automática que de otra manera no funciona. Cuando hayamos recibido los notebooks, haremos público el código de control.\n",
    "\n",
    "Por supuesto, si quieren agregar celdas y más código, si quieren hacer pruebas para asegurarse de que el código funciona, etc., pueden hacerlo aquí mismo.\n",
    "\n",
    "La _modalidad de entrega preferencial_ es a través de GitHub:\n",
    "1. Hacer un fork del [repositorio](https://github.com/exord/UNSAM_IA), tocando el botón de arriba a la derecha (ver figura). \n",
    "\n",
    "2. Crear un subdirectorio dentro del directorio <tt>entregas</tt> con el formato \"ApellidoNombre\"\n",
    "3. Completar este notebook y colocarlo en ese directorio. Hacer un \"commit\" y un \"push\" a su versión del repositorio.\n",
    "4. Realizar un <tt>pull request</tt> desde GitHub y seguir las instrucciones. Más información en la [página de GitHub](https://help.github.com/en/github/collaborating-with-issues-and-pull-requests/about-pull-requests).\n",
    "\n",
    "De ser necesario, en caso de sufrir de **alergia severa a GitHub**, el notebook puede enviarse por email.\n",
    "\n",
    "La **fecha límite** para la entrega es el **martes 21 de abril a las 20 horas**.\n",
    "\n",
    "<figure>\n",
    "    <img src=\"figures/fork_pullrequest.jpeg\", alt=\"Fork\", width=\"800px\", \n",
    "         style=\"float: left; margin-right: 10px;\"/>\n",
    "    \n",
    "     <figcaption>Fig.1 - Ubicación de los botones para Fork y Pull request en Github.</figcaption>\n",
    "</figure>"
   ]
  },
  {
   "cell_type": "markdown",
   "metadata": {
    "colab_type": "text",
    "id": "xQGJAaz9My8p"
   },
   "source": [
    "## 1. Probabilidad Condicional"
   ]
  },
  {
   "cell_type": "code",
   "execution_count": 1,
   "metadata": {
    "colab": {},
    "colab_type": "code",
    "id": "UV8ZHtWoMWVd"
   },
   "outputs": [
    {
     "name": "stdout",
     "output_type": "stream",
     "text": [
      "mkdir: cannot create directory ‘datasets’: File exists\n",
      "mkdir: cannot create directory ‘datasets/student-alcohol-consumption’: File exists\n",
      "--2020-04-21 12:06:22--  https://raw.githubusercontent.com/exord/UNSAM_IA/master/datasets/student-alcohol-consumption/student-mat.csv\n",
      "Resolving raw.githubusercontent.com... 151.101.216.133\n",
      "Connecting to raw.githubusercontent.com|151.101.216.133|:443... connected.\n",
      "HTTP request sent, awaiting response... 200 OK\n",
      "Length: 41983 (41K) [text/plain]\n",
      "Saving to: ‘student-mat.csv’\n",
      "\n",
      "student-mat.csv     100%[===================>]  41,00K   207KB/s    in 0,2s    \n",
      "\n",
      "2020-04-21 12:06:23 (207 KB/s) - ‘student-mat.csv’ saved [41983/41983]\n",
      "\n"
     ]
    }
   ],
   "source": [
    "#Si estas en Google Colab, ejecuta esta celda una unica vez:\n",
    "!mkdir datasets\n",
    "!mkdir datasets/student-alcohol-consumption\n",
    "!wget https://raw.githubusercontent.com/exord/UNSAM_IA/master/datasets/student-alcohol-consumption/student-mat.csv\n",
    "!mv student-mat.csv datasets/student-alcohol-consumption/student-mat.csv"
   ]
  },
  {
   "cell_type": "markdown",
   "metadata": {
    "colab_type": "text",
    "id": "MDyX2WNDM1fC"
   },
   "source": [
    "Similar al ***Caso: Apruebo si falto a clase?*** del [notebook de probabilidad condicional](02_Condicional.ipynb), calcule la probabilidad de que un alumno haya faltado menos de 3 veces dado que sacó más de un 60% en la materia, i.e.\n",
    "$$\n",
    "P( \\text{absences} < 3 | \\text{G3} \\geq 12).\n",
    "$$\n",
    "\n",
    "Por favor, utilice el siguiente signature. Se recomienda cambiar el código solamente entre los comentarios \"Start\" y \"Finish\". \n",
    "Si quiere probar cosas, siéntase libre de crear nuevas celdas de código, aunque estas no serán evaluadas."
   ]
  },
  {
   "cell_type": "code",
   "execution_count": 2,
   "metadata": {
    "colab": {},
    "colab_type": "code",
    "id": "kgp3Px1JNFbA"
   },
   "outputs": [
    {
     "name": "stdout",
     "output_type": "stream",
     "text": [
      "Cantidad de registros: 395\n",
      "Aprobaron: 162\n",
      "Faltaron poco: 183\n",
      "falto_poco    0    1\n",
      "aprueba             \n",
      "0           131  102\n",
      "1            81   81\n"
     ]
    },
    {
     "data": {
      "text/plain": [
       "0.5"
      ]
     },
     "execution_count": 2,
     "metadata": {},
     "output_type": "execute_result"
    }
   ],
   "source": [
    "import numpy as np\n",
    "import pandas as pd\n",
    "\n",
    "def prob_condicional(df=pd.read_csv('datasets/student-alcohol-consumption/student-mat.csv')):\n",
    "    \"\"\"Calcula P(absences < 3 | G3 >= 12).\n",
    "    Input:\n",
    "    df -- dataset de estudiantes\n",
    "    Output:\n",
    "    p        -- probabilidad de que absences > 3 dado que G3 >= 12\n",
    "    \"\"\"\n",
    "    #Start\n",
    "\n",
    "    #print(df.describe())\n",
    "    print(\"Cantidad de registros: {}\".format(len(df)))\n",
    "    df['aprueba'] = np.where(df['G3'] >= 12, 1, 0)\n",
    "    print('Aprobaron: {}'.format(sum(df['aprueba'])))\n",
    "    df['falto_poco'] = np.where(df['absences'] < 3, 1, 0)\n",
    "    print('Faltaron poco: {}'.format(sum(df['falto_poco'])))\n",
    "    \n",
    "    df['cuenta'] = 1\n",
    "    df = df[['aprueba','falto_poco','cuenta']]\n",
    "    #print(df.keys())\n",
    "    \n",
    "    df2 = pd.pivot_table(df, values = 'cuenta', index = ['aprueba'], \n",
    "                         columns = ['falto_poco'], aggfunc = np.sum, fill_value = 0)\n",
    "    print(df2)\n",
    "    \n",
    "    p_abs_and_apr = (df2.values[1,1])/len(df)\n",
    "    p_apr = (df2.values[1,0]+df2.values[1,1])/len(df)\n",
    "    p_abs_apr = p_abs_and_apr / p_apr # p(abs|apr) = p(abs&apr) / p(apr)\n",
    "    #guarda el valor final, como un número, en esta variable\n",
    "    resultado = p_abs_apr\n",
    "    #Finish\n",
    "    return resultado\n",
    "\n",
    "#prob_condicional()"
   ]
  },
  {
   "cell_type": "markdown",
   "metadata": {
    "colab_type": "text",
    "id": "laC3JpLHOx-h"
   },
   "source": [
    "## 2. Inferencia Bayesiana"
   ]
  },
  {
   "cell_type": "markdown",
   "metadata": {
    "colab_type": "text",
    "id": "dfG9aID6_CLD"
   },
   "source": [
    "Se tira una moneda N veces, de las cuales X sale cara. La moneda sale cara con una frecuencia $\\mu$ desconocida, pero que se cree que es *fair*. \n",
    "\n",
    "Construya una función que recibe el vector con los N resultados (1: cara, 0: seca) y con él calcule tanto el posterior del parámetro $\\mu$ como la probabilidad de que $\\mu>0.7$. Use como prior una distribución normal con media 0.5 y desviación estandar 0.1 ($\\mathcal{N}(0.5,0.1)$)\n",
    "\n",
    "Por favor, utilice el siguiente signature. Se recomienda cambiar el código solamente entre los comentarios \"Start\" y \"Finish\". \n",
    "Si quiere probar cosas, siéntase libre de crear nuevas celdas de código, aunque estas no serán evaluadas.\n",
    "\n",
    "<b>Ayuda</b>: usar los métodos <tt>pdf</tt> y <tt>pmf</tt> de las clases de <tt>scipy.stats</tt> que se importan al principio de la celda. Revisar también los notebooks de [teoría](03_Inferencia.ipynb) y [práctica](03p_Inferencia_Soluciones.ipynb) que se presentaron en clase."
   ]
  },
  {
   "cell_type": "code",
   "execution_count": 4,
   "metadata": {
    "colab": {},
    "colab_type": "code",
    "id": "-NY1kRNs1GnH"
   },
   "outputs": [
    {
     "data": {
      "image/png": "[encoded data removed]",
      "text/plain": [
       "<Figure size 540x540 with 1 Axes>"
      ]
     },
     "metadata": {
      "needs_background": "light"
     },
     "output_type": "display_data"
    }
   ],
   "source": [
    "import numpy as np\n",
    "from scipy.stats import binom, norm\n",
    "\n",
    "import matplotlib.pylab as plt\n",
    "\n",
    "def inferencia_moneda(tiradas, seed=123):\n",
    "    \"\"\"Realiza inferencia bayesiana en el parametro mu de una moneda.\n",
    "\n",
    "    Input:\n",
    "    tiradas -- Resultado de N tiradas (VECTOR)\n",
    "    seed    -- Semilla para np.random (default=123)\n",
    "\n",
    "    Output:\n",
    "    p        -- probabilidad de que mu>0.7\n",
    "    posterior-- posterior de mu, shape=(100,)\n",
    "    \"\"\"\n",
    "    np.random.seed(seed)\n",
    "    mu, step = np.linspace(0, 1, num=100, retstep=True) #step es el espacio entre puntos\n",
    "    #Numero de tiradas, y de veces que salio cara\n",
    "    N = len(tiradas)\n",
    "    X = np.sum(tiradas)\n",
    "\n",
    "    #Start\n",
    "    prior = norm(loc=0.5, scale=0.1).pdf(mu) #Esto es el prior evaluado en el vector mu\n",
    "    \n",
    "    verosimilitud = binom.pmf(k=X, n=N, p=mu)  #La verosimilitud evaluada en el vector mu\n",
    "    posterior = prior*verosimilitud #el posterior no normalizado\n",
    "    evidencia = posterior.sum()/len(mu) #evidencia o verosimilitud marginalizada\n",
    "    posterior = posterior/evidencia #normalizamos para obtener el posterior\n",
    "    p = np.sum(posterior[mu>0.7])/len(mu) #Probabilidad de que mu > 0.7 \n",
    "    \n",
    "    fig = plt.figure(figsize=(4.5,4.5),dpi=120)\n",
    "    plt.plot(prior, label='Prior')\n",
    "    plt.plot(posterior, label='Posterior')\n",
    "    plt.legend()\n",
    "    plt.title(r'La prob. de que mu > 0.7 es {}'.format(p),fontsize=9)\n",
    "    plt.show()\n",
    "\n",
    "    #Finish\n",
    "    assert len(posterior) == len(mu), \"Tamaño del posterior distinto al de mu\"\n",
    "    return p, np.array(posterior)\n",
    "\n",
    "#from scipy.stats import bernoulli\n",
    "#mu_true = 0.5 # Se cree que es fair\n",
    "#N = 100\n",
    "#tiradas = bernoulli.rvs(mu_true, size=N)\n",
    "#p, pos = inferencia_moneda(tiradas,123)\n"
   ]
  },
  {
   "cell_type": "markdown",
   "metadata": {
    "colab_type": "text",
    "id": "koZhGjvgO4uo"
   },
   "source": [
    "## 3. Regresión Lineal"
   ]
  },
  {
   "cell_type": "markdown",
   "metadata": {
    "colab_type": "text",
    "id": "TLYPUIQrPMgk"
   },
   "source": [
    "Construye una función que dado un input (X_train, Y_train) realice un ajuste lineal de cuadrados mínimos, y con ello devuelva las predicciones para el input X_test como un vector Y_test.\n",
    "\n",
    "Por favor, utilice el siguiente signature. Se recomienda cambiar el código solamente entre los comentarios \"Start\" y \"Finish\". \n",
    "Si quiere probar cosas, siéntase libre de crear nuevas celdas de código, aunque estas no serán evaluadas.\n",
    "\n",
    "<b>Ayuda</b>: pueden usar la implementación de las ecuaciones normales que aparece en el notebook de [modelos lineales](05_ModelosLineales.ipynb) o las clases del módulo <tt>sklearn.linear_model</tt>."
   ]
  },
  {
   "cell_type": "code",
   "execution_count": 13,
   "metadata": {
    "colab": {},
    "colab_type": "code",
    "id": "NavUqiDhPLx-"
   },
   "outputs": [
    {
     "data": {
      "image/png": "[encoded data removed]",
      "text/plain": [
       "<Figure size 540x540 with 1 Axes>"
      ]
     },
     "metadata": {
      "needs_background": "light"
     },
     "output_type": "display_data"
    }
   ],
   "source": [
    "import numpy as np\n",
    "from sklearn.linear_model import LinearRegression\n",
    "from sklearn.model_selection import train_test_split\n",
    "\n",
    "def ajuste_lineal(X_train, Y_train, X_test):\n",
    "    \"\"\"Calcula un ajuste lineal.\n",
    "\n",
    "      Input:\n",
    "      X_train -- datos de entrenamiento, shape=(N,1)\n",
    "      Y_train -- etiquetas de entrenamiento, shape=(N,1)\n",
    "      X_test  -- datos de testeo, shape=(N_test,1)\n",
    "\n",
    "      Output:\n",
    "      Y_test  -- prediccion de etiquetas para X_test, shape=(N_test,1)\n",
    "      \"\"\"\n",
    "\n",
    "    N = len(X_train)\n",
    "    N_test = len(X_test)\n",
    "    #Start\n",
    "    reg = LinearRegression()\n",
    "    reg.fit(X_train, Y_train)\n",
    "    #ahora guardamos los resultados en esta variable\n",
    "    Y_test = reg.predict(X_test)\n",
    "    #Finish\n",
    "    assert len(Y_test) == len(X_test), \"Tamaño de Y_test distinto al de X_test\"\n",
    "    return np.array(Y_test)\n",
    "\n",
    "#N  = 100\n",
    "#slope  = -4*np.pi; inter  =  2\n",
    "#x_true = 2 * np.random.rand(N, 1) # True\n",
    "#t_true = inter + slope * x_true   # True\n",
    "#t_true += np.random.randn(N, 1)   # add normal error\n",
    "#\n",
    "#data = np.hstack([x_true, t_true])\n",
    "#train, test = train_test_split(data, test_size=0.2, random_state=1234)\n",
    "#\n",
    "#X_train = train[:,0].reshape((len(train),1))\n",
    "#y_train = train[:,1].reshape((len(train),1))\n",
    "#X_test  = test[:,0].reshape((len(test),1))\n",
    "#y_test  = test[:,1].reshape((len(test),1))\n",
    "#\n",
    "#y_pred = ajuste_lineal(X_train, y_train, X_test)\n",
    "#\n",
    "#fig = plt.figure(figsize=(4.5,4.5),dpi=120)\n",
    "#\n",
    "##plt.title(r'La prob. de que mu > 0.7 es {}'.format(p),fontsize=9)\n",
    "#plt.plot(x_true, t_true, 'xb', label='Observations', ms=5, zorder=-5)\n",
    "#plt.plot(X_test, y_pred, '-or', label='Linear fit', ms=6)\n",
    "#\n",
    "#plt.xlabel('x')\n",
    "#plt.ylabel('t')\n",
    "#plt.legend(loc='best')\n",
    "#plt.show()\n"
   ]
  },
  {
   "cell_type": "code",
   "execution_count": null,
   "metadata": {},
   "outputs": [],
   "source": []
  }
 ],
 "metadata": {
  "colab": {
   "collapsed_sections": [],
   "name": "Auto-evaluación.ipynb",
   "provenance": []
  },
  "kernelspec": {
   "display_name": "Python 3",
   "language": "python",
   "name": "python3"
  },
  "language_info": {
   "codemirror_mode": {
    "name": "ipython",
    "version": 3
   },
   "file_extension": ".py",
   "mimetype": "text/x-python",
   "name": "python",
   "nbconvert_exporter": "python",
   "pygments_lexer": "ipython3",
   "version": "3.7.3"
  }
 },
 "nbformat": 4,
 "nbformat_minor": 1
}
